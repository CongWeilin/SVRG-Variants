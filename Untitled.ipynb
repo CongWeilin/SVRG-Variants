{
 "cells": [
  {
   "cell_type": "code",
   "execution_count": 1,
   "metadata": {},
   "outputs": [],
   "source": [
    "import torch\n",
    "import torchvision\n",
    "import torch.nn as nn\n",
    "import torch.nn.functional as F\n",
    "import copy\n",
    "import numpy as np\n",
    "import matplotlib.pyplot as plt\n",
    "import autograd_grad_sample\n",
    "\n",
    "train_data = torchvision.datasets.MNIST(\n",
    "    root='./data/',\n",
    "    train=True,\n",
    "    transform=torchvision.transforms.ToTensor(),\n",
    "    download=True,\n",
    ")\n",
    "\n",
    "test_data = torchvision.datasets.MNIST(\n",
    "    root='./data/',\n",
    "    train=False,\n",
    "    transform=torchvision.transforms.ToTensor(),\n",
    "    download=True,\n",
    ")"
   ]
  },
  {
   "cell_type": "code",
   "execution_count": 2,
   "metadata": {},
   "outputs": [],
   "source": [
    "x = torch.FloatTensor(train_data.data.view(-1, 28*28).float())\n",
    "y = torch.LongTensor(train_data.targets)"
   ]
  },
  {
   "cell_type": "code",
   "execution_count": 3,
   "metadata": {},
   "outputs": [],
   "source": [
    "model = nn.Sequential(\n",
    "    nn.Linear(28*28, 512),\n",
    "    nn.Linear(512, 512),\n",
    "    nn.Linear(512, 10))\n",
    "# model = nn.Linear(28*28, 10)\n",
    "model_clone = copy.deepcopy(model)\n",
    "\n",
    "autograd_grad_sample.add_hooks(model)"
   ]
  },
  {
   "cell_type": "code",
   "execution_count": 4,
   "metadata": {
    "scrolled": true
   },
   "outputs": [],
   "source": [
    "train_ids = np.arange(10)\n",
    "output = F.log_softmax(model(x[train_ids]), dim=1)\n",
    "target = y[train_ids]\n",
    "num_samples = target.size(0)\n",
    "loss = F.nll_loss(output, target, reduction='none')\n",
    "\n",
    "num_samples = loss.size(0)\n",
    "grad_per_sample = torch.zeros_like(loss)\n",
    "grad_all = {name: torch.zeros_like(param) for name, param in model.named_parameters()}\n",
    "\n",
    "for i in range(num_samples):\n",
    "    model.zero_grad()\n",
    "    loss[i].backward(retain_graph=True)\n",
    "    grad_norm = 0.0\n",
    "    for name, param in model.named_parameters():\n",
    "        grad_all[name] += param.grad\n",
    "        grad_norm += param.grad.data.norm(2) ** 2\n",
    "    grad_per_sample[i] = torch.sqrt(grad_norm)\n",
    "\n",
    "for name, param in model.named_parameters():\n",
    "    param.grad = grad_all[name]/num_samples\n"
   ]
  },
  {
   "cell_type": "code",
   "execution_count": 9,
   "metadata": {},
   "outputs": [
    {
     "name": "stdout",
     "output_type": "stream",
     "text": [
      "False\n",
      "tensor(4.4751) tensor(-5.8465) tensor(-0.0077)\n",
      "tensor(4.4751) tensor(-5.8465) tensor(-0.0077)\n",
      "tensor(2.1736e-08)\n",
      "False\n",
      "tensor(0.0226) tensor(-0.0271) tensor(-0.0003)\n",
      "tensor(0.0226) tensor(-0.0271) tensor(-0.0003)\n",
      "tensor(5.1245e-15)\n",
      "False\n",
      "tensor(4.2421) tensor(-5.2108) tensor(0.0005)\n",
      "tensor(4.2421) tensor(-5.2108) tensor(0.0005)\n",
      "tensor(8.6035e-10)\n",
      "True\n",
      "tensor(0.0382) tensor(-0.0413) tensor(-1.2577e-05)\n",
      "tensor(0.0382) tensor(-0.0413) tensor(-1.2577e-05)\n",
      "tensor(8.2743e-16)\n",
      "False\n",
      "tensor(14.9703) tensor(-17.4761) tensor(-1.1211e-08)\n",
      "tensor(14.9703) tensor(-17.4761) tensor(-2.6633e-08)\n",
      "tensor(3.3423e-10)\n",
      "True\n",
      "tensor(0.2148) tensor(-0.2999) tensor(4.0303e-08)\n",
      "tensor(0.2148) tensor(-0.2999) tensor(3.6880e-08)\n",
      "tensor(7.5734e-16)\n"
     ]
    }
   ],
   "source": [
    "# model.zero_grad()\n",
    "# output = F.log_softmax(model(x[train_ids]), dim=1)\n",
    "# target = y[train_ids]\n",
    "# loss = F.nll_loss(output, target, reduction='none').mean()\n",
    "# loss.backward(retain_graph=True)\n",
    "\n",
    "model_clone.zero_grad()\n",
    "output = F.log_softmax(model_clone(x[train_ids]), dim=1)\n",
    "target = y[train_ids]\n",
    "loss = F.nll_loss(output, target, reduction='none').mean()\n",
    "loss.backward(retain_graph=True)\n",
    "for p1, p2 in zip(model.parameters(), model_clone.parameters()):\n",
    "    print(torch.allclose(p1.grad.data, p2.grad.data))\n",
    "    print(p1.grad.data.max(), p1.grad.data.min(), p1.grad.data.mean())\n",
    "    print(p2.grad.data.max(), p2.grad.data.min(), p2.grad.data.mean())\n",
    "    print((p1.grad.data-p2.grad.data).norm(2)**2)"
   ]
  },
  {
   "cell_type": "code",
   "execution_count": 6,
   "metadata": {},
   "outputs": [
    {
     "name": "stdout",
     "output_type": "stream",
     "text": [
      "True\n",
      "True\n",
      "True\n",
      "True\n",
      "True\n",
      "True\n"
     ]
    }
   ],
   "source": [
    "for p1, p2 in zip(model.parameters(), model_clone.parameters()):\n",
    "    print(torch.allclose(p1.data, p2.data))"
   ]
  },
  {
   "cell_type": "code",
   "execution_count": 7,
   "metadata": {},
   "outputs": [
    {
     "data": {
      "text/plain": [
       "<generator object Module.parameters at 0x7fbb4afd2b10>"
      ]
     },
     "execution_count": 7,
     "metadata": {},
     "output_type": "execute_result"
    }
   ],
   "source": [
    "model.parameters()"
   ]
  },
  {
   "cell_type": "code",
   "execution_count": null,
   "metadata": {},
   "outputs": [],
   "source": []
  }
 ],
 "metadata": {
  "kernelspec": {
   "display_name": "Python 3",
   "language": "python",
   "name": "python3"
  },
  "language_info": {
   "codemirror_mode": {
    "name": "ipython",
    "version": 3
   },
   "file_extension": ".py",
   "mimetype": "text/x-python",
   "name": "python",
   "nbconvert_exporter": "python",
   "pygments_lexer": "ipython3",
   "version": "3.7.3"
  }
 },
 "nbformat": 4,
 "nbformat_minor": 2
}
